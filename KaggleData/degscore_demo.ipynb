{
 "cells": [
  {
   "cell_type": "code",
   "execution_count": 3,
   "metadata": {},
   "outputs": [
    {
     "name": "stdout",
     "output_type": "stream",
     "text": [
      "Populating the interactive namespace from numpy and matplotlib\n"
     ]
    }
   ],
   "source": [
    "# %load /Users/hwayment/ipynb_defaults.py\n",
    "%load_ext autoreload\n",
    "%autoreload 2\n",
    "\n",
    "%pylab inline\n",
    "import os, sys\n",
    "import json\n",
    "\n",
    "import numpy as np\n",
    "import pandas as pd\n",
    "\n",
    "import seaborn as sns\n",
    "sns.set_style('ticks')\n",
    "sns.set_context('paper')\n",
    "\n",
    "from sklearn.linear_model import Ridge\n",
    "from sklearn.metrics import mean_squared_error, r2_score"
   ]
  },
  {
   "cell_type": "code",
   "execution_count": 4,
   "metadata": {},
   "outputs": [],
   "source": [
    "#sys.path.extend(['/mnt/c/Users/abreha.b/OneDrive - Stanford/rotations/das/arnie', '/mnt/c/Users/abreha.b/OneDrive - Stanford/rotations/das/'])\n",
    "#os.environ[\"ARNIEFILE\"] = '/mnt/c/Users/abreha.b/OneDrive - Stanford/rotations/das/arnie/run.arnie'\n",
    "#sys.path.append('/mnt/c/Users/abreha.b/OneDrive - Stanford/rotations/das/DegScore')\n",
    "\n",
    "sys.path.append('..')\n",
    "import assign_loop_type\n",
    "from assign_loop_type import write_loop_assignments\n",
    "\n",
    "\n",
    "from DegScore import DegScore\n",
    "from arnie.sample_structures import sample_structures\n",
    "\n",
    "from tqdm.notebook import tqdm"
   ]
  },
  {
   "cell_type": "markdown",
   "metadata": {},
   "source": [
    "## Code to reproduce DegScore from Kaggle datasets"
   ]
  },
  {
   "cell_type": "code",
   "execution_count": 54,
   "metadata": {},
   "outputs": [],
   "source": [
    "def get_ensemble(sequence, n=1000):\n",
    "    structs = sample_structures(sequence, n_samples=n, package='vienna')\n",
    "    structs = [list(write_loop_assignments(s)) for s in structs]\n",
    "    return np.array(structs)\n",
    "\n",
    "def encode_input(df, window_size=1, pad=10, seq=True, struct=True, ensemble_size=0):\n",
    "    '''Creat input/output for regression model for predicting structure probing data.\n",
    "    Inputs:\n",
    "    \n",
    "    dataframe (in EternaBench RDAT format)\n",
    "    window_size: size of window (in one direction). so window_size=1 is a total window size of 3\n",
    "    pad: number of nucleotides at start to not include\n",
    "    seq (bool): include sequence encoding\n",
    "    struct (bool): include bpRNA structure encoding\n",
    "    \n",
    "    Outputs:\n",
    "    Input array (n_samples x n_features): array of windowed input features\n",
    "    feature_names (list): feature names\n",
    "    \n",
    "    '''\n",
    "    #MAX_LEN = 68\n",
    "    BASES = ['A','U','G','C']\n",
    "    STRUCTS = ['H','E','I','M','B','S']\n",
    "    \n",
    "    inpts = []\n",
    "    labels = []\n",
    "\n",
    "    feature_kernel=[]\n",
    "    if seq:\n",
    "        feature_kernel.extend(BASES)\n",
    "    if struct:\n",
    "        feature_kernel.extend(STRUCTS)\n",
    "\n",
    "    feature_names = ['%s_%d' % (k, val) for val in range(-1*window_size, window_size+1) for k in feature_kernel]\n",
    "    \n",
    "    for i, row in tqdm(df.iterrows(), desc='Encoding inputs', total=len(df)):\n",
    "        MAX_LEN = len(row['sequence'])-39\n",
    "        \n",
    "        arr = np.zeros([MAX_LEN,len(feature_kernel)])\n",
    "        \n",
    "        if ensemble_size > 0: # stochastically sample ensemble\n",
    "            ensemble = get_ensemble(row['sequence'], n=ensemble_size)\n",
    "        else: # use MEA structure\n",
    "            ensemble = np.array([list(row['predicted_loop_type'])])\n",
    "\n",
    "        for index in range(pad,MAX_LEN):\n",
    "            ctr=0\n",
    "\n",
    "            #encode sequence\n",
    "            if seq:\n",
    "                for char in BASES:\n",
    "                    if row['sequence'][index]==char:\n",
    "                        arr[index,ctr]+=1\n",
    "                    ctr+=1\n",
    "\n",
    "            if struct:\n",
    "                loop_assignments = ''.join(ensemble[:,index])\n",
    "                for char in STRUCTS:\n",
    "                    prob = loop_assignments.count(char) / len(loop_assignments)\n",
    "                    arr[index,ctr]+=prob\n",
    "                    ctr+=1\n",
    "                    \n",
    "        # add zero padding to the side\n",
    "        padded_arr = np.vstack([np.zeros([window_size,len(feature_kernel)]),arr[pad:], np.zeros([window_size,len(feature_kernel)])])\n",
    "\n",
    "        for index in range(pad,MAX_LEN):\n",
    "            new_index = index+window_size-pad\n",
    "            tmp = padded_arr[new_index-window_size:new_index+window_size+1]\n",
    "            inpts.append(tmp.flatten())\n",
    "            labels.append('%s_%d' % (row['id'], index))\n",
    "            \n",
    "    return np.array(inpts), feature_names, labels\n",
    "\n",
    "def encode_output(df, data_type='reactivity', pad=10):\n",
    "    '''Creat input/output for regression model for predicting structure probing data.\n",
    "    Inputs:\n",
    "    \n",
    "    dataframe (in EternaBench RDAT format)\n",
    "    data_type: column name for degradation\n",
    "    window_size: size of window (in one direction). so window_size=1 is a total window size of 3\n",
    "    pad: number of nucleotides at start to not include\n",
    "    \n",
    "    Outputs:\n",
    "    output array (n_samples): array of reactivity values\n",
    "    \n",
    "    '''\n",
    "    #MAX_LEN = 68\n",
    "    \n",
    "    outpts = []\n",
    "    labels = []\n",
    "    # output identity should be in form id_00073f8be_0\n",
    "\n",
    "    for i, row in df.iterrows():\n",
    "        MAX_LEN = len(row['sequence'])-39\n",
    "        \n",
    "        for index in range(pad,MAX_LEN):\n",
    "            outpts.append(row[data_type][index])\n",
    "            labels.append('%s_%d' % (row['id'], index))\n",
    "            \n",
    "            \n",
    "    return outpts, labels"
   ]
  },
  {
   "cell_type": "markdown",
   "metadata": {},
   "source": [
    "#### Load data "
   ]
  },
  {
   "cell_type": "code",
   "execution_count": 35,
   "metadata": {},
   "outputs": [],
   "source": [
    "kaggle_train = pd.read_json('train.json',lines=True)\n",
    "kaggle_train = kaggle_train.loc[kaggle_train['SN_filter']==1]\n",
    "\n",
    "kaggle_test = pd.read_json('test.json',lines=True)\n",
    "#kaggle_test = pd.read_csv('test_labels.csv')"
   ]
  },
  {
   "cell_type": "code",
   "execution_count": 36,
   "metadata": {},
   "outputs": [
    {
     "data": {
      "text/html": [
       "<div>\n",
       "<style scoped>\n",
       "    .dataframe tbody tr th:only-of-type {\n",
       "        vertical-align: middle;\n",
       "    }\n",
       "\n",
       "    .dataframe tbody tr th {\n",
       "        vertical-align: top;\n",
       "    }\n",
       "\n",
       "    .dataframe thead th {\n",
       "        text-align: right;\n",
       "    }\n",
       "</style>\n",
       "<table border=\"1\" class=\"dataframe\">\n",
       "  <thead>\n",
       "    <tr style=\"text-align: right;\">\n",
       "      <th></th>\n",
       "      <th>index</th>\n",
       "      <th>id</th>\n",
       "      <th>sequence</th>\n",
       "      <th>structure</th>\n",
       "      <th>predicted_loop_type</th>\n",
       "      <th>seq_length</th>\n",
       "      <th>seq_scored</th>\n",
       "    </tr>\n",
       "  </thead>\n",
       "  <tbody>\n",
       "    <tr>\n",
       "      <th>0</th>\n",
       "      <td>0</td>\n",
       "      <td>id_00073f8be</td>\n",
       "      <td>GGAAAAGUACGACUUGAGUACGGAAAACGUACCAACUCGAUUAAAA...</td>\n",
       "      <td>......((((((((((.(((((.....))))))))((((((((......</td>\n",
       "      <td>EEEEEESSSSSSSSSSBSSSSSHHHHHSSSSSSSSSSSSSSSSHHH...</td>\n",
       "      <td>107</td>\n",
       "      <td>68</td>\n",
       "    </tr>\n",
       "    <tr>\n",
       "      <th>1</th>\n",
       "      <td>1</td>\n",
       "      <td>id_000ae4237</td>\n",
       "      <td>GGAAACGGGUUCCGCGGAUUGCUGCUAAUAAGAGUAAUCUCUAAAU...</td>\n",
       "      <td>.....((((..((((((...(((((.....((((....)))).......</td>\n",
       "      <td>EEEEESSSSIISSSSSSIIISSSSSIIIIISSSSHHHHSSSSIIII...</td>\n",
       "      <td>130</td>\n",
       "      <td>91</td>\n",
       "    </tr>\n",
       "    <tr>\n",
       "      <th>2</th>\n",
       "      <td>2</td>\n",
       "      <td>id_00131c573</td>\n",
       "      <td>GGAAAACAAAACGGCCUGGAAGACGAAGGAAUUCGGCGCGAAGGCC...</td>\n",
       "      <td>...........((.(((.(.(..((..((..((((...))))..))...</td>\n",
       "      <td>EEEEEEEEEEESSISSSISISIISSIISSIISSSSHHHSSSSIISS...</td>\n",
       "      <td>107</td>\n",
       "      <td>68</td>\n",
       "    </tr>\n",
       "    <tr>\n",
       "      <th>3</th>\n",
       "      <td>3</td>\n",
       "      <td>id_00181fd34</td>\n",
       "      <td>GGAAAGGAUCUCUAUCGAAGGAUAGAGAUCGCUCGCGACGGCACGA...</td>\n",
       "      <td>......((((((((((....))))))))))((((((..((.(((.....</td>\n",
       "      <td>EEEEEESSSSSSSSSSHHHHSSSSSSSSSSSSSSSSIISSISSSHH...</td>\n",
       "      <td>107</td>\n",
       "      <td>68</td>\n",
       "    </tr>\n",
       "    <tr>\n",
       "      <th>4</th>\n",
       "      <td>4</td>\n",
       "      <td>id_0020473f7</td>\n",
       "      <td>GGAAACCCGCCCGCGCCCGCCCGCGCUGCUGCCGUGCCUCCUCUCC...</td>\n",
       "      <td>.....(((((((((((((((((((((((((((((((((((((((((...</td>\n",
       "      <td>EEEEESSSSSSSSSSSSSSSSSSSSSSSSSSSSSSSSSSSSSSSSS...</td>\n",
       "      <td>130</td>\n",
       "      <td>91</td>\n",
       "    </tr>\n",
       "    <tr>\n",
       "      <th>...</th>\n",
       "      <td>...</td>\n",
       "      <td>...</td>\n",
       "      <td>...</td>\n",
       "      <td>...</td>\n",
       "      <td>...</td>\n",
       "      <td>...</td>\n",
       "      <td>...</td>\n",
       "    </tr>\n",
       "    <tr>\n",
       "      <th>3629</th>\n",
       "      <td>3629</td>\n",
       "      <td>id_ff691b7e5</td>\n",
       "      <td>GGAAACUAGCCAUGGGCAGGUUGAAGGUUGGGUGACACUAACUGGA...</td>\n",
       "      <td>........((((((((..((((...((((((......))))))......</td>\n",
       "      <td>EEEEEEEESSSSSSSSMMSSSSIIISSSSSSHHHHHHSSSSSSIII...</td>\n",
       "      <td>130</td>\n",
       "      <td>91</td>\n",
       "    </tr>\n",
       "    <tr>\n",
       "      <th>3630</th>\n",
       "      <td>3630</td>\n",
       "      <td>id_ff9bf3581</td>\n",
       "      <td>GGAAAUAGCGCCAUAGCCGAUUAUUAUAGGCAAUUUUAGCGAUUUA...</td>\n",
       "      <td>.......(((((...(((..........))).......(((........</td>\n",
       "      <td>EEEEEEESSSSSMMMSSSHHHHHHHHHHSSSMMMMMMMSSSHHHHH...</td>\n",
       "      <td>130</td>\n",
       "      <td>91</td>\n",
       "    </tr>\n",
       "    <tr>\n",
       "      <th>3631</th>\n",
       "      <td>3631</td>\n",
       "      <td>id_ffc8f96a8</td>\n",
       "      <td>GGAAAGAUGUUCUGAUGAACAUCGGCUGUUCUAGCUUUCAUCUAUC...</td>\n",
       "      <td>.....(((((((....)))))))(((.(((((((((((((((((((...</td>\n",
       "      <td>EEEEESSSSSSSHHHHSSSSSSSSSSBSSSSSSSSSSSSSSSSSSS...</td>\n",
       "      <td>130</td>\n",
       "      <td>91</td>\n",
       "    </tr>\n",
       "    <tr>\n",
       "      <th>3632</th>\n",
       "      <td>3632</td>\n",
       "      <td>id_ffd7e8cc1</td>\n",
       "      <td>GGAAACCGUUAACCUGCAUCUUCAUGUUAUCGCUUGCGACAGCAAC...</td>\n",
       "      <td>...............................((((((............</td>\n",
       "      <td>EEEEEEEEEEEEEEEEEEEEEEEEEEEEEEESSSSSSIIIIIIIII...</td>\n",
       "      <td>130</td>\n",
       "      <td>91</td>\n",
       "    </tr>\n",
       "    <tr>\n",
       "      <th>3633</th>\n",
       "      <td>3633</td>\n",
       "      <td>id_ffda94f24</td>\n",
       "      <td>GGAAAAACCAAUUGCUAUUAAAGGUUCCUUUGUUCGCUAAGUCCAA...</td>\n",
       "      <td>.......(((..((((....(((((.(((((((...((..(((((....</td>\n",
       "      <td>EEEEEEESSSIISSSSIIIISSSSSBSSSSSSSIIISSIISSSSSH...</td>\n",
       "      <td>130</td>\n",
       "      <td>91</td>\n",
       "    </tr>\n",
       "  </tbody>\n",
       "</table>\n",
       "<p>3634 rows × 7 columns</p>\n",
       "</div>"
      ],
      "text/plain": [
       "      index            id                                           sequence  \\\n",
       "0         0  id_00073f8be  GGAAAAGUACGACUUGAGUACGGAAAACGUACCAACUCGAUUAAAA...   \n",
       "1         1  id_000ae4237  GGAAACGGGUUCCGCGGAUUGCUGCUAAUAAGAGUAAUCUCUAAAU...   \n",
       "2         2  id_00131c573  GGAAAACAAAACGGCCUGGAAGACGAAGGAAUUCGGCGCGAAGGCC...   \n",
       "3         3  id_00181fd34  GGAAAGGAUCUCUAUCGAAGGAUAGAGAUCGCUCGCGACGGCACGA...   \n",
       "4         4  id_0020473f7  GGAAACCCGCCCGCGCCCGCCCGCGCUGCUGCCGUGCCUCCUCUCC...   \n",
       "...     ...           ...                                                ...   \n",
       "3629   3629  id_ff691b7e5  GGAAACUAGCCAUGGGCAGGUUGAAGGUUGGGUGACACUAACUGGA...   \n",
       "3630   3630  id_ff9bf3581  GGAAAUAGCGCCAUAGCCGAUUAUUAUAGGCAAUUUUAGCGAUUUA...   \n",
       "3631   3631  id_ffc8f96a8  GGAAAGAUGUUCUGAUGAACAUCGGCUGUUCUAGCUUUCAUCUAUC...   \n",
       "3632   3632  id_ffd7e8cc1  GGAAACCGUUAACCUGCAUCUUCAUGUUAUCGCUUGCGACAGCAAC...   \n",
       "3633   3633  id_ffda94f24  GGAAAAACCAAUUGCUAUUAAAGGUUCCUUUGUUCGCUAAGUCCAA...   \n",
       "\n",
       "                                              structure  \\\n",
       "0     ......((((((((((.(((((.....))))))))((((((((......   \n",
       "1     .....((((..((((((...(((((.....((((....)))).......   \n",
       "2     ...........((.(((.(.(..((..((..((((...))))..))...   \n",
       "3     ......((((((((((....))))))))))((((((..((.(((.....   \n",
       "4     .....(((((((((((((((((((((((((((((((((((((((((...   \n",
       "...                                                 ...   \n",
       "3629  ........((((((((..((((...((((((......))))))......   \n",
       "3630  .......(((((...(((..........))).......(((........   \n",
       "3631  .....(((((((....)))))))(((.(((((((((((((((((((...   \n",
       "3632  ...............................((((((............   \n",
       "3633  .......(((..((((....(((((.(((((((...((..(((((....   \n",
       "\n",
       "                                    predicted_loop_type  seq_length  \\\n",
       "0     EEEEEESSSSSSSSSSBSSSSSHHHHHSSSSSSSSSSSSSSSSHHH...         107   \n",
       "1     EEEEESSSSIISSSSSSIIISSSSSIIIIISSSSHHHHSSSSIIII...         130   \n",
       "2     EEEEEEEEEEESSISSSISISIISSIISSIISSSSHHHSSSSIISS...         107   \n",
       "3     EEEEEESSSSSSSSSSHHHHSSSSSSSSSSSSSSSSIISSISSSHH...         107   \n",
       "4     EEEEESSSSSSSSSSSSSSSSSSSSSSSSSSSSSSSSSSSSSSSSS...         130   \n",
       "...                                                 ...         ...   \n",
       "3629  EEEEEEEESSSSSSSSMMSSSSIIISSSSSSHHHHHHSSSSSSIII...         130   \n",
       "3630  EEEEEEESSSSSMMMSSSHHHHHHHHHHSSSMMMMMMMSSSHHHHH...         130   \n",
       "3631  EEEEESSSSSSSHHHHSSSSSSSSSSBSSSSSSSSSSSSSSSSSSS...         130   \n",
       "3632  EEEEEEEEEEEEEEEEEEEEEEEEEEEEEEESSSSSSIIIIIIIII...         130   \n",
       "3633  EEEEEEESSSIISSSSIIIISSSSSBSSSSSSSIIISSIISSSSSH...         130   \n",
       "\n",
       "      seq_scored  \n",
       "0             68  \n",
       "1             91  \n",
       "2             68  \n",
       "3             68  \n",
       "4             91  \n",
       "...          ...  \n",
       "3629          91  \n",
       "3630          91  \n",
       "3631          91  \n",
       "3632          91  \n",
       "3633          91  \n",
       "\n",
       "[3634 rows x 7 columns]"
      ]
     },
     "execution_count": 36,
     "metadata": {},
     "output_type": "execute_result"
    }
   ],
   "source": [
    "kaggle_test"
   ]
  },
  {
   "cell_type": "markdown",
   "metadata": {},
   "source": [
    "#### Encode data"
   ]
  },
  {
   "cell_type": "markdown",
   "metadata": {},
   "source": [
    "###### Max. expected accuracy"
   ]
  },
  {
   "cell_type": "code",
   "execution_count": 55,
   "metadata": {},
   "outputs": [
    {
     "data": {
      "application/vnd.jupyter.widget-view+json": {
       "model_id": "9a54c118c9ff46f5bbe8e9ac0a5e2858",
       "version_major": 2,
       "version_minor": 0
      },
      "text/plain": [
       "HBox(children=(IntProgress(value=0, description='Encoding inputs', max=1589, style=ProgressStyle(description_w…"
      ]
     },
     "metadata": {},
     "output_type": "display_data"
    },
    {
     "name": "stdout",
     "output_type": "stream",
     "text": [
      "\n"
     ]
    },
    {
     "data": {
      "application/vnd.jupyter.widget-view+json": {
       "model_id": "9f0edb0adae1488dbef2c230f299f414",
       "version_major": 2,
       "version_minor": 0
      },
      "text/plain": [
       "HBox(children=(IntProgress(value=0, description='Encoding inputs', max=3634, style=ProgressStyle(description_w…"
      ]
     },
     "metadata": {},
     "output_type": "display_data"
    },
    {
     "name": "stdout",
     "output_type": "stream",
     "text": [
      "\n"
     ]
    }
   ],
   "source": [
    "mea_inputs_train, mea_feature_names, _ = encode_input(kaggle_train, window_size=12)\n",
    "mea_inputs_test, _, mea_test_labels = encode_input(kaggle_test, window_size=12)"
   ]
  },
  {
   "cell_type": "markdown",
   "metadata": {},
   "source": [
    "###### Ensemble-averaged encoding"
   ]
  },
  {
   "cell_type": "code",
   "execution_count": 56,
   "metadata": {},
   "outputs": [
    {
     "data": {
      "application/vnd.jupyter.widget-view+json": {
       "model_id": "3d2b083126434bfe843eb61fe1de3fbc",
       "version_major": 2,
       "version_minor": 0
      },
      "text/plain": [
       "HBox(children=(IntProgress(value=0, description='Encoding inputs', max=1589, style=ProgressStyle(description_w…"
      ]
     },
     "metadata": {},
     "output_type": "display_data"
    },
    {
     "name": "stdout",
     "output_type": "stream",
     "text": [
      "\n"
     ]
    },
    {
     "data": {
      "application/vnd.jupyter.widget-view+json": {
       "model_id": "d24691c20d2047b08e1fd0a0fc54b9b5",
       "version_major": 2,
       "version_minor": 0
      },
      "text/plain": [
       "HBox(children=(IntProgress(value=0, description='Encoding inputs', max=3634, style=ProgressStyle(description_w…"
      ]
     },
     "metadata": {},
     "output_type": "display_data"
    },
    {
     "name": "stdout",
     "output_type": "stream",
     "text": [
      "\n"
     ]
    }
   ],
   "source": [
    "ensemble_size = 100\n",
    "ens_inputs_train, ens_feature_names, _ = encode_input(kaggle_train, window_size=12, ensemble_size=ensemble_size)\n",
    "ens_inputs_test, _, ens_test_labels = encode_input(kaggle_test, window_size=12, ensemble_size=ensemble_size)"
   ]
  },
  {
   "cell_type": "markdown",
   "metadata": {},
   "source": [
    "#### Visualize two encodings for an example nucleotide"
   ]
  },
  {
   "cell_type": "code",
   "execution_count": 76,
   "metadata": {},
   "outputs": [
    {
     "data": {
      "text/plain": [
       "Text(0.5, 0, 'window position')"
      ]
     },
     "execution_count": 76,
     "metadata": {},
     "output_type": "execute_result"
    },
    {
     "data": {
      "image/png": "[encoded data removed]",
      "text/plain": [
       "<Figure size 720x288 with 2 Axes>"
      ]
     },
     "metadata": {
      "needs_background": "light"
     },
     "output_type": "display_data"
    }
   ],
   "source": [
    "figure(figsize=(10,4))\n",
    "subplot(1,2,1)\n",
    "title('MFE encoding')\n",
    "imshow(np.array(mea_inputs_train[33].reshape(25,10)).T,cmap='gist_heat_r')\n",
    "yticks(range(10), ['A','U','G','C','H','E','I','M','B','S'])\n",
    "xlabel('window position')\n",
    "subplot(1,2,2)\n",
    "title('ensemble encoding')\n",
    "imshow(np.array(ens_inputs_train[33].reshape(25,10)).T,cmap='gist_heat_r')\n",
    "yticks(range(10), ['A','U','G','C','H','E','I','M','B','S'])\n",
    "xlabel('window position')"
   ]
  },
  {
   "cell_type": "markdown",
   "metadata": {},
   "source": [
    "#### Setup kaggle submissions"
   ]
  },
  {
   "cell_type": "code",
   "execution_count": 57,
   "metadata": {},
   "outputs": [],
   "source": [
    "sample_submission = pd.read_csv('sample_submission.csv.zip')\n",
    "mask = sample_submission['id_seqpos'].isin(mea_test_labels)"
   ]
  },
  {
   "cell_type": "code",
   "execution_count": 58,
   "metadata": {},
   "outputs": [],
   "source": [
    "ens_sample_submission = pd.read_csv('sample_submission.csv.zip')\n",
    "mask = ens_sample_submission['id_seqpos'].isin(ens_test_labels)"
   ]
  },
  {
   "cell_type": "markdown",
   "metadata": {},
   "source": [
    "#### Train models"
   ]
  },
  {
   "cell_type": "markdown",
   "metadata": {},
   "source": [
    "###### MEA models"
   ]
  },
  {
   "cell_type": "code",
   "execution_count": 59,
   "metadata": {},
   "outputs": [
    {
     "name": "stdout",
     "output_type": "stream",
     "text": [
      "Fitting reactivity ...\n",
      "Fitting deg_Mg_pH10 ...\n",
      "Fitting deg_pH10 ...\n",
      "Fitting deg_Mg_50C ...\n",
      "Fitting deg_50C ...\n"
     ]
    }
   ],
   "source": [
    "mea_models = {}\n",
    "\n",
    "for output_type in ['reactivity', 'deg_Mg_pH10', 'deg_pH10', 'deg_Mg_50C','deg_50C']:\n",
    "    mea_outputs_train, mea_outputs_labels = encode_output(kaggle_train, data_type=output_type)\n",
    "\n",
    "    # Clip negative values to 0\n",
    "    mea_outputs_train = np.clip(mea_outputs_train, 0, 100)\n",
    "\n",
    "    reg = Ridge(alpha=0.15)\n",
    "    print('Fitting %s ...' % output_type)\n",
    "    reg.fit(mea_inputs_train, mea_outputs_train)\n",
    "    \n",
    "    mea_models[output_type] = reg\n",
    "    \n",
    "    # test inputs, add to sample submission df\n",
    "    test_prediction = reg.predict(mea_inputs_test)\n",
    "    sample_submission.loc[mask, output_type] = test_prediction"
   ]
  },
  {
   "cell_type": "markdown",
   "metadata": {},
   "source": [
    "###### Ensemble-averaged models"
   ]
  },
  {
   "cell_type": "code",
   "execution_count": 60,
   "metadata": {},
   "outputs": [
    {
     "name": "stdout",
     "output_type": "stream",
     "text": [
      "Fitting reactivity ...\n",
      "Fitting deg_Mg_pH10 ...\n",
      "Fitting deg_pH10 ...\n",
      "Fitting deg_Mg_50C ...\n",
      "Fitting deg_50C ...\n"
     ]
    }
   ],
   "source": [
    "ens_models = {}\n",
    "\n",
    "for output_type in ['reactivity', 'deg_Mg_pH10', 'deg_pH10', 'deg_Mg_50C','deg_50C']:\n",
    "    ens_outputs_train, ens_outputs_labels = encode_output(kaggle_train, data_type=output_type)\n",
    "    \n",
    "    # Clip negative values to 0\n",
    "    ens_outputs_train = np.clip(ens_outputs_train, 0, 100)\n",
    "\n",
    "    reg = Ridge(alpha=0.15)\n",
    "    print('Fitting %s ...' % output_type)\n",
    "    reg.fit(ens_inputs_train, ens_outputs_train)\n",
    "    \n",
    "    ens_models[output_type] = reg\n",
    "    \n",
    "    # test inputs, add to sample submission df\n",
    "    test_prediction = reg.predict(ens_inputs_test)\n",
    "    ens_sample_submission.loc[mask, output_type] = test_prediction"
   ]
  },
  {
   "cell_type": "code",
   "execution_count": 61,
   "metadata": {},
   "outputs": [],
   "source": [
    "# save to csv\n",
    "sample_submission.to_csv('test_mea_code_jan28.csv', index=False)\n",
    "ens_sample_submission.to_csv('test_ens_code_jan28.csv', index=False)"
   ]
  },
  {
   "cell_type": "markdown",
   "metadata": {},
   "source": [
    "## Using the existing class that contains \"DegScore-2.1\""
   ]
  },
  {
   "cell_type": "code",
   "execution_count": 30,
   "metadata": {},
   "outputs": [],
   "source": [
    "def score_mcrmse(models, test_df):\n",
    "    scored_data_types = ['reactivity', 'deg_Mg_pH10', 'deg_Mg_50C']\n",
    "\n",
    "    seq_scores = []\n",
    "    for i, row in test_df.iterrows():\n",
    "        scores = []\n",
    "        for data_type in scored_data_types:\n",
    "            model = models[data_type]\n",
    "            \n",
    "            coeffs = model.coef_\n",
    "            inter = model.intercept_\n",
    "            \n",
    "            mdl = DegScore.DegScore(row['sequence'], structure=row['structure'], coeffs=coeffs, intercept=inter)\n",
    "            \n",
    "            seq_scored = row['seq_scored']\n",
    "            pred = mdl.degscore_by_position[:seq_scored]\n",
    "            target = np.array(json.loads(row[data_type])[:seq_scored])\n",
    "            \n",
    "            scores.extend(np.square(pred - target))\n",
    "        \n",
    "        seq_scores.append(scores)\n",
    "        \n",
    "    return np.mean(seq_scores)"
   ]
  },
  {
   "cell_type": "code",
   "execution_count": 31,
   "metadata": {},
   "outputs": [
    {
     "data": {
      "text/plain": [
       "0.24691545925204095"
      ]
     },
     "execution_count": 31,
     "metadata": {},
     "output_type": "execute_result"
    }
   ],
   "source": [
    "score_mcrmse(mea_models, kaggle_test)"
   ]
  },
  {
   "cell_type": "code",
   "execution_count": 32,
   "metadata": {},
   "outputs": [
    {
     "data": {
      "text/plain": [
       "0.23856658661289426"
      ]
     },
     "execution_count": 32,
     "metadata": {},
     "output_type": "execute_result"
    }
   ],
   "source": [
    "score_mcrmse(ens_models, kaggle_test)"
   ]
  }
 ],
 "metadata": {
  "kernelspec": {
   "display_name": "Python 3",
   "language": "python",
   "name": "python3"
  },
  "language_info": {
   "codemirror_mode": {
    "name": "ipython",
    "version": 3
   },
   "file_extension": ".py",
   "mimetype": "text/x-python",
   "name": "python",
   "nbconvert_exporter": "python",
   "pygments_lexer": "ipython3",
   "version": "3.7.3"
  }
 },
 "nbformat": 4,
 "nbformat_minor": 4
}
