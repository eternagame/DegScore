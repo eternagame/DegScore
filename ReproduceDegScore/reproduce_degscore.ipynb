{
 "cells": [
  {
   "cell_type": "code",
   "execution_count": 1,
   "metadata": {},
   "outputs": [
    {
     "name": "stdout",
     "output_type": "stream",
     "text": [
      "Populating the interactive namespace from numpy and matplotlib\n"
     ]
    }
   ],
   "source": [
    "# %load /Users/hwayment/ipynb_defaults.py\n",
    "%load_ext autoreload\n",
    "%autoreload 2\n",
    "\n",
    "%pylab inline\n",
    "import os, sys\n",
    "import json\n",
    "\n",
    "import numpy as np\n",
    "import pandas as pd\n",
    "\n",
    "import seaborn as sns\n",
    "sns.set_style('ticks')\n",
    "sns.set_context('paper')\n",
    "\n",
    "from sklearn.linear_model import Ridge\n",
    "from sklearn.metrics import mean_squared_error, r2_score"
   ]
  },
  {
   "cell_type": "code",
   "execution_count": 2,
   "metadata": {},
   "outputs": [],
   "source": [
    "#sys.path.extend(['/mnt/c/Users/abreha.b/OneDrive - Stanford/rotations/das/arnie', '/mnt/c/Users/abreha.b/OneDrive - Stanford/rotations/das/'])\n",
    "#os.environ[\"ARNIEFILE\"] = '/mnt/c/Users/abreha.b/OneDrive - Stanford/rotations/das/arnie/run.arnie'\n",
    "#sys.path.append('/mnt/c/Users/abreha.b/OneDrive - Stanford/rotations/das/DegScore')\n",
    "\n",
    "sys.path.append('..')\n",
    "import assign_loop_type\n",
    "from assign_loop_type import write_loop_assignments\n",
    "\n",
    "\n",
    "from DegScore import DegScore\n",
    "from arnie.sample_structures import sample_structures\n",
    "\n",
    "from tqdm.notebook import tqdm"
   ]
  },
  {
   "cell_type": "markdown",
   "metadata": {},
   "source": [
    "## Code to reproduce DegScore from Kaggle datasets"
   ]
  },
  {
   "cell_type": "code",
   "execution_count": 3,
   "metadata": {},
   "outputs": [],
   "source": [
    "def get_ensemble(sequence, n=1000):\n",
    "    structs = sample_structures(sequence, n_samples=n, package='vienna')\n",
    "    structs = [list(write_loop_assignments(s)) for s in structs]\n",
    "    return np.array(structs)\n",
    "\n",
    "def encode_input(df, window_size=1, pad=10, seq=True, struct=True, ensemble_size=0):\n",
    "    '''Creat input/output for regression model for predicting structure probing data.\n",
    "    Inputs:\n",
    "    \n",
    "    dataframe (in EternaBench RDAT format)\n",
    "    window_size: size of window (in one direction). so window_size=1 is a total window size of 3\n",
    "    pad: number of nucleotides at start to not include\n",
    "    seq (bool): include sequence encoding\n",
    "    struct (bool): include bpRNA structure encoding\n",
    "    \n",
    "    Outputs:\n",
    "    Input array (n_samples x n_features): array of windowed input features\n",
    "    feature_names (list): feature names\n",
    "    \n",
    "    '''\n",
    "    #MAX_LEN = 68\n",
    "    BASES = ['A','U','G','C']\n",
    "    STRUCTS = ['H','E','I','M','B','S']\n",
    "    \n",
    "    inpts = []\n",
    "    labels = []\n",
    "\n",
    "    feature_kernel=[]\n",
    "    if seq:\n",
    "        feature_kernel.extend(BASES)\n",
    "    if struct:\n",
    "        feature_kernel.extend(STRUCTS)\n",
    "\n",
    "    feature_names = ['%s_%d' % (k, val) for val in range(-1*window_size, window_size+1) for k in feature_kernel]\n",
    "    \n",
    "    for i, row in tqdm(df.iterrows(), desc='Encoding inputs', total=len(df)):\n",
    "        MAX_LEN = len(row['sequence'])-39 #68 for RYOS-I\n",
    "        \n",
    "        arr = np.zeros([MAX_LEN,len(feature_kernel)])\n",
    "        \n",
    "        if ensemble_size > 0: # stochastically sample ensemble\n",
    "            ensemble = get_ensemble(row['sequence'], n=ensemble_size)\n",
    "        else: # use MEA structure\n",
    "            ensemble = np.array([list(row['predicted_loop_type'])])\n",
    "\n",
    "        for index in range(pad,MAX_LEN):\n",
    "            ctr=0\n",
    "\n",
    "            #encode sequence\n",
    "            if seq:\n",
    "                for char in BASES:\n",
    "                    if row['sequence'][index]==char:\n",
    "                        arr[index,ctr]+=1\n",
    "                    ctr+=1\n",
    "\n",
    "            if struct:\n",
    "                loop_assignments = ''.join(ensemble[:,index])\n",
    "                for char in STRUCTS:\n",
    "                    prob = loop_assignments.count(char) / len(loop_assignments)\n",
    "                    arr[index,ctr]+=prob\n",
    "                    ctr+=1\n",
    "                    \n",
    "        # add zero padding to the side\n",
    "        padded_arr = np.vstack([np.zeros([window_size,len(feature_kernel)]),arr[pad:], np.zeros([window_size,len(feature_kernel)])])\n",
    "\n",
    "        for index in range(pad,MAX_LEN):\n",
    "            new_index = index+window_size-pad\n",
    "            tmp = padded_arr[new_index-window_size:new_index+window_size+1]\n",
    "            inpts.append(tmp.flatten())\n",
    "            labels.append('%s_%d' % (row['id'], index))\n",
    "            \n",
    "    return np.array(inpts), feature_names, labels\n",
    "\n",
    "def encode_output(df, data_type='reactivity', pad=10):\n",
    "    '''Creat input/output for regression model for predicting structure probing data.\n",
    "    Inputs:\n",
    "    \n",
    "    dataframe (in EternaBench RDAT format)\n",
    "    data_type: column name for degradation\n",
    "    window_size: size of window (in one direction). so window_size=1 is a total window size of 3\n",
    "    pad: number of nucleotides at start to not include\n",
    "    \n",
    "    Outputs:\n",
    "    output array (n_samples): array of reactivity values\n",
    "    \n",
    "    '''\n",
    "    #MAX_LEN = 68\n",
    "    \n",
    "    outpts = []\n",
    "    labels = []\n",
    "    # output identity should be in form id_00073f8be_0\n",
    "\n",
    "    for i, row in df.iterrows():\n",
    "        MAX_LEN = len(row['sequence'])-39\n",
    "        \n",
    "        for index in range(pad,MAX_LEN):\n",
    "            outpts.append(row[data_type][index])\n",
    "            labels.append('%s_%d' % (row['id'], index))\n",
    "            \n",
    "            \n",
    "    return outpts, labels"
   ]
  },
  {
   "cell_type": "code",
   "execution_count": 80,
   "metadata": {},
   "outputs": [],
   "source": [
    "def encode_input_construct(df, window_size=1, pad=10, seq=True, struct=True, ensemble_size=0):\n",
    "    '''Creat input/output for regression model for predicting structure probing data.\n",
    "    Inputs:\n",
    "    \n",
    "    dataframe (in EternaBench RDAT format)\n",
    "    window_size: size of window (in one direction). so window_size=1 is a total window size of 3\n",
    "    pad: number of nucleotides at start to not include\n",
    "    seq (bool): include sequence encoding\n",
    "    struct (bool): include bpRNA structure encoding\n",
    "    \n",
    "    Outputs:\n",
    "    Input array (n_samples x n_features): array of windowed input features\n",
    "    feature_names (list): feature names\n",
    "    \n",
    "    '''\n",
    "    #MAX_LEN = 68\n",
    "    BASES = ['A','U','G','C']\n",
    "    STRUCTS = ['H','E','I','M','B','S']\n",
    "    \n",
    "    inpts = []\n",
    "    labels = []\n",
    "\n",
    "    feature_kernel=[]\n",
    "    if seq:\n",
    "        feature_kernel.extend(BASES)\n",
    "    if struct:\n",
    "        feature_kernel.extend(STRUCTS)\n",
    "\n",
    "    feature_names = ['%s_%d' % (k, val) for val in range(-1*window_size, window_size+1) for k in feature_kernel]\n",
    "    \n",
    "    for i, row in tqdm(df.iterrows(), desc='Encoding inputs', total=len(df)):\n",
    "        MAX_LEN = len(row['sequence'])-39 #68 for RYOS-I\n",
    "        \n",
    "        arr = np.zeros([MAX_LEN,len(feature_kernel)])\n",
    "        \n",
    "        if ensemble_size > 0: # stochastically sample ensemble\n",
    "            ensemble = get_ensemble(row['sequence'], n=ensemble_size)\n",
    "        else: # use MEA structure\n",
    "            ensemble = np.array([list(row['predicted_loop_type'])])\n",
    "\n",
    "        for index in range(pad,MAX_LEN):\n",
    "            ctr=0\n",
    "\n",
    "            #encode sequence\n",
    "            if seq:\n",
    "                for char in BASES:\n",
    "                    if row['sequence'][index]==char:\n",
    "                        arr[index,ctr]+=1\n",
    "                    ctr+=1\n",
    "\n",
    "            if struct:\n",
    "                loop_assignments = ''.join(ensemble[:,index])\n",
    "                for char in STRUCTS:\n",
    "                    prob = loop_assignments.count(char) / len(loop_assignments)\n",
    "                    arr[index,ctr]+=prob\n",
    "                    ctr+=1\n",
    "                    \n",
    "        # add zero padding to the side\n",
    "        padded_arr = np.vstack([np.zeros([window_size,len(feature_kernel)]),arr[pad:], np.zeros([window_size,len(feature_kernel)])])\n",
    "\n",
    "        tmp_construct_holder = np.zeros((window_size*2+1)*len(feature_kernel))\n",
    "        \n",
    "        for index in range(pad,MAX_LEN):\n",
    "            new_index = index+window_size-pad\n",
    "            tmp = padded_arr[new_index-window_size:new_index+window_size+1]\n",
    "                        \n",
    "            tmp_construct_holder = tmp_construct_holder+tmp.flatten()\n",
    "            labels.append('%s_%d' % (row['id'], index))\n",
    "            \n",
    "        inpts.append(tmp_construct_holder)\n",
    "\n",
    "    return np.array(inpts), feature_names, labels\n",
    "\n",
    "def encode_output_construct(df, data_type='reactivity', pad=10):\n",
    "    '''Creat input/output for regression model for predicting structure probing data.\n",
    "    Inputs:\n",
    "    \n",
    "    dataframe (in EternaBench RDAT format)\n",
    "    data_type: column name for degradation\n",
    "    window_size: size of window (in one direction). so window_size=1 is a total window size of 3\n",
    "    pad: number of nucleotides at start to not include\n",
    "    \n",
    "    Outputs:\n",
    "    output array (n_samples): array of reactivity values\n",
    "    \n",
    "    '''\n",
    "    #MAX_LEN = 68\n",
    "    \n",
    "    outpts = []\n",
    "    labels = []\n",
    "    # output identity should be in form id_00073f8be_0\n",
    "\n",
    "    for i, row in df.iterrows():\n",
    "        MAX_LEN = len(row['sequence'])-39\n",
    "        outpts.append(np.sum([row[data_type][index] for index in range(pad,MAX_LEN)]))\n",
    "            \n",
    "    return outpts, labels"
   ]
  },
  {
   "cell_type": "markdown",
   "metadata": {},
   "source": [
    "#### Load data "
   ]
  },
  {
   "cell_type": "code",
   "execution_count": 81,
   "metadata": {},
   "outputs": [],
   "source": [
    "kaggle_train = pd.read_json('train.json',lines=True)\n",
    "kaggle_train = kaggle_train.loc[kaggle_train['SN_filter']==1]\n",
    "\n",
    "kaggle_test = pd.read_json('test.json',lines=True)\n",
    "#kaggle_test = pd.read_csv('test_labels.csv')"
   ]
  },
  {
   "cell_type": "markdown",
   "metadata": {},
   "source": [
    "#### Encode data"
   ]
  },
  {
   "cell_type": "markdown",
   "metadata": {},
   "source": [
    "###### Max. expected accuracy"
   ]
  },
  {
   "cell_type": "code",
   "execution_count": 95,
   "metadata": {},
   "outputs": [
    {
     "data": {
      "application/vnd.jupyter.widget-view+json": {
       "model_id": "1827cfc7270d424599bf6db42fc292ca",
       "version_major": 2,
       "version_minor": 0
      },
      "text/plain": [
       "HBox(children=(IntProgress(value=0, description='Encoding inputs', max=1589, style=ProgressStyle(description_w…"
      ]
     },
     "metadata": {},
     "output_type": "display_data"
    },
    {
     "name": "stdout",
     "output_type": "stream",
     "text": [
      "\n"
     ]
    },
    {
     "data": {
      "application/vnd.jupyter.widget-view+json": {
       "model_id": "c04813e5b1974813938e487389853daa",
       "version_major": 2,
       "version_minor": 0
      },
      "text/plain": [
       "HBox(children=(IntProgress(value=0, description='Encoding inputs', max=3634, style=ProgressStyle(description_w…"
      ]
     },
     "metadata": {},
     "output_type": "display_data"
    },
    {
     "name": "stdout",
     "output_type": "stream",
     "text": [
      "\n"
     ]
    }
   ],
   "source": [
    "mea_inputs_train, mea_feature_names, _ = encode_input(kaggle_train, window_size=2)\n",
    "mea_inputs_test, _, mea_test_labels = encode_input(kaggle_test, window_size=2)"
   ]
  },
  {
   "cell_type": "code",
   "execution_count": 82,
   "metadata": {},
   "outputs": [
    {
     "data": {
      "application/vnd.jupyter.widget-view+json": {
       "model_id": "252e12c4ab3347e1927e3a4dfea7f6e1",
       "version_major": 2,
       "version_minor": 0
      },
      "text/plain": [
       "HBox(children=(IntProgress(value=0, description='Encoding inputs', max=1589, style=ProgressStyle(description_w…"
      ]
     },
     "metadata": {},
     "output_type": "display_data"
    },
    {
     "name": "stdout",
     "output_type": "stream",
     "text": [
      "\n"
     ]
    }
   ],
   "source": [
    "mea_inputs_train_construct, mea_feature_names, _ = encode_input_construct(kaggle_train, window_size=12)\n",
    "#mea_inputs_test, _, mea_test_labels = encode_input(kaggle_test, window_size=12)"
   ]
  },
  {
   "cell_type": "markdown",
   "metadata": {},
   "source": [
    "###### Ensemble-averaged encoding"
   ]
  },
  {
   "cell_type": "code",
   "execution_count": 56,
   "metadata": {},
   "outputs": [
    {
     "data": {
      "application/vnd.jupyter.widget-view+json": {
       "model_id": "3d2b083126434bfe843eb61fe1de3fbc",
       "version_major": 2,
       "version_minor": 0
      },
      "text/plain": [
       "HBox(children=(IntProgress(value=0, description='Encoding inputs', max=1589, style=ProgressStyle(description_w…"
      ]
     },
     "metadata": {},
     "output_type": "display_data"
    },
    {
     "name": "stdout",
     "output_type": "stream",
     "text": [
      "\n"
     ]
    },
    {
     "data": {
      "application/vnd.jupyter.widget-view+json": {
       "model_id": "d24691c20d2047b08e1fd0a0fc54b9b5",
       "version_major": 2,
       "version_minor": 0
      },
      "text/plain": [
       "HBox(children=(IntProgress(value=0, description='Encoding inputs', max=3634, style=ProgressStyle(description_w…"
      ]
     },
     "metadata": {},
     "output_type": "display_data"
    },
    {
     "name": "stdout",
     "output_type": "stream",
     "text": [
      "\n"
     ]
    }
   ],
   "source": [
    "ensemble_size = 100\n",
    "ens_inputs_train, ens_feature_names, _ = encode_input(kaggle_train, window_size=12, ensemble_size=ensemble_size)\n",
    "ens_inputs_test, _, ens_test_labels = encode_input(kaggle_test, window_size=12, ensemble_size=ensemble_size)"
   ]
  },
  {
   "cell_type": "markdown",
   "metadata": {},
   "source": [
    "#### Visualize two encodings for an example nucleotide"
   ]
  },
  {
   "cell_type": "code",
   "execution_count": 76,
   "metadata": {},
   "outputs": [
    {
     "data": {
      "text/plain": [
       "Text(0.5, 0, 'window position')"
      ]
     },
     "execution_count": 76,
     "metadata": {},
     "output_type": "execute_result"
    },
    {
     "data": {
      "image/png": "[encoded data removed]",
      "text/plain": [
       "<Figure size 720x288 with 2 Axes>"
      ]
     },
     "metadata": {
      "needs_background": "light"
     },
     "output_type": "display_data"
    }
   ],
   "source": [
    "figure(figsize=(10,4))\n",
    "subplot(1,2,1)\n",
    "title('MFE encoding')\n",
    "imshow(np.array(mea_inputs_train[33].reshape(25,10)).T,cmap='gist_heat_r')\n",
    "yticks(range(10), ['A','U','G','C','H','E','I','M','B','S'])\n",
    "xlabel('window position')\n",
    "subplot(1,2,2)\n",
    "title('ensemble encoding')\n",
    "imshow(np.array(ens_inputs_train[33].reshape(25,10)).T,cmap='gist_heat_r')\n",
    "yticks(range(10), ['A','U','G','C','H','E','I','M','B','S'])\n",
    "xlabel('window position')"
   ]
  },
  {
   "cell_type": "markdown",
   "metadata": {},
   "source": [
    "#### Setup kaggle submissions"
   ]
  },
  {
   "cell_type": "code",
   "execution_count": 57,
   "metadata": {},
   "outputs": [],
   "source": [
    "sample_submission = pd.read_csv('sample_submission.csv.zip')\n",
    "mask = sample_submission['id_seqpos'].isin(mea_test_labels)"
   ]
  },
  {
   "cell_type": "code",
   "execution_count": 58,
   "metadata": {},
   "outputs": [],
   "source": [
    "ens_sample_submission = pd.read_csv('sample_submission.csv.zip')\n",
    "mask = ens_sample_submission['id_seqpos'].isin(ens_test_labels)"
   ]
  },
  {
   "cell_type": "markdown",
   "metadata": {},
   "source": [
    "#### Train models"
   ]
  },
  {
   "cell_type": "markdown",
   "metadata": {},
   "source": [
    "###### MEA models"
   ]
  },
  {
   "cell_type": "code",
   "execution_count": 96,
   "metadata": {},
   "outputs": [
    {
     "name": "stdout",
     "output_type": "stream",
     "text": [
      "Fitting deg_Mg_pH10 ...\n"
     ]
    }
   ],
   "source": [
    "mea_models = {}\n",
    "\n",
    "for output_type in ['deg_Mg_pH10']: #['reactivity', 'deg_Mg_pH10', 'deg_pH10', 'deg_Mg_50C','deg_50C']:\n",
    "    mea_outputs_train, mea_outputs_labels = encode_output(kaggle_train, data_type=output_type)\n",
    "    #mea_outputs_train, mea_outputs_labels = encode_output_construct(kaggle_train, data_type=output_type)\n",
    "\n",
    "    # Clip negative values to 0\n",
    "    #mea_outputs_train = np.clip(mea_outputs_train, -1, 100)\n",
    "\n",
    "    reg = Ridge(alpha=0.15, fit_intercept=False)\n",
    "    print('Fitting %s ...' % output_type)\n",
    "    #reg.fit(mea_inputs_train_construct, mea_outputs_train)\n",
    "    reg.fit(mea_inputs_train, mea_outputs_train)\n",
    "    \n",
    "    mea_models[output_type] = reg\n",
    "    \n",
    "    # test inputs, add to sample submission df\n",
    "    test_prediction = reg.predict(mea_inputs_test)\n",
    "    #sample_submission.loc[mask, output_type] = test_prediction"
   ]
  },
  {
   "cell_type": "code",
   "execution_count": 97,
   "metadata": {},
   "outputs": [
    {
     "data": {
      "text/plain": [
       "'-0.119975,-0.109280,-0.125776,-0.129901,0.137878,0.048720,0.129931,0.079754,0.123292,0.098688,-0.005116,0.035615,-0.031198,-0.061845,0.049366,-0.030215,0.016736,0.018498,0.016610,-0.034317,0.859800,0.932746,0.916964,0.827843,-0.068651,-0.063083,-0.145654,0.010412,0.059719,-0.278208,-0.068793,0.232126,-0.258597,-0.231803,-0.074957,-0.083229,-0.013723,0.007611,0.069522,-0.082664,0.046571,0.009784,-0.087292,-0.024710,-0.015972,-0.188900,-0.002574,-0.002828,0.009722,-0.080645'"
      ]
     },
     "execution_count": 97,
     "metadata": {},
     "output_type": "execute_result"
    }
   ],
   "source": [
    "','.join([\"%.6f\" % x for x in reg.coef_])\n"
   ]
  },
  {
   "cell_type": "code",
   "execution_count": 99,
   "metadata": {},
   "outputs": [],
   "source": [
    "mdl = DegScore('AAA')"
   ]
  },
  {
   "cell_type": "code",
   "execution_count": 101,
   "metadata": {},
   "outputs": [
    {
     "data": {
      "text/plain": [
       "{'sequence': 'AAA',\n",
       " 'structure': '...',\n",
       " 'bprna_string': 'EEE',\n",
       " 'coeffs_': [-0.02,\n",
       "  -0.027,\n",
       "  -0.026,\n",
       "  -0.017,\n",
       "  0.005,\n",
       "  0.0,\n",
       "  0.005,\n",
       "  -0.006,\n",
       "  -0.011,\n",
       "  0.006,\n",
       "  0.031,\n",
       "  0.021,\n",
       "  0.036,\n",
       "  0.034,\n",
       "  0.026,\n",
       "  -0.024,\n",
       "  -0.005,\n",
       "  0.028,\n",
       "  -0.022,\n",
       "  -0.015,\n",
       "  -0.043,\n",
       "  -0.043,\n",
       "  -0.029,\n",
       "  -0.026,\n",
       "  0.016,\n",
       "  -0.077,\n",
       "  -0.001,\n",
       "  -0.016,\n",
       "  0.031,\n",
       "  -0.001,\n",
       "  0.064,\n",
       "  0.065,\n",
       "  0.064,\n",
       "  0.069,\n",
       "  0.029,\n",
       "  0.044,\n",
       "  -0.003,\n",
       "  0.012,\n",
       "  -0.006,\n",
       "  -0.004,\n",
       "  -0.072,\n",
       "  -0.066,\n",
       "  -0.061,\n",
       "  -0.065,\n",
       "  0.014,\n",
       "  0.037,\n",
       "  0.051,\n",
       "  0.017,\n",
       "  0.054,\n",
       "  0.037,\n",
       "  -0.065,\n",
       "  -0.068,\n",
       "  -0.058,\n",
       "  -0.041,\n",
       "  -0.014,\n",
       "  0.075,\n",
       "  -0.007,\n",
       "  0.005,\n",
       "  -0.01,\n",
       "  -0.006,\n",
       "  0.009,\n",
       "  0.014,\n",
       "  0.019,\n",
       "  0.037,\n",
       "  0.005,\n",
       "  -0.097,\n",
       "  0.013,\n",
       "  -0.005,\n",
       "  0.001,\n",
       "  0.002,\n",
       "  -0.026,\n",
       "  -0.026,\n",
       "  -0.036,\n",
       "  -0.008,\n",
       "  0.041,\n",
       "  0.067,\n",
       "  0.017,\n",
       "  0.007,\n",
       "  0.034,\n",
       "  0.028,\n",
       "  -0.077,\n",
       "  -0.079,\n",
       "  -0.092,\n",
       "  -0.064,\n",
       "  0.012,\n",
       "  0.022,\n",
       "  0.041,\n",
       "  0.041,\n",
       "  0.057,\n",
       "  0.038,\n",
       "  0.01,\n",
       "  0.017,\n",
       "  -0.004,\n",
       "  0.05,\n",
       "  -0.018,\n",
       "  -0.144,\n",
       "  -0.001,\n",
       "  0.009,\n",
       "  0.013,\n",
       "  -0.017,\n",
       "  -0.012,\n",
       "  -0.019,\n",
       "  -0.047,\n",
       "  -0.032,\n",
       "  0.124,\n",
       "  0.164,\n",
       "  0.089,\n",
       "  0.063,\n",
       "  0.076,\n",
       "  0.055,\n",
       "  0.012,\n",
       "  0.021,\n",
       "  -0.038,\n",
       "  -0.05,\n",
       "  0.014,\n",
       "  -0.044,\n",
       "  -0.023,\n",
       "  -0.015,\n",
       "  -0.037,\n",
       "  -0.059,\n",
       "  -0.027,\n",
       "  0.042,\n",
       "  0.003,\n",
       "  -0.017,\n",
       "  -0.09,\n",
       "  -0.057,\n",
       "  -0.14,\n",
       "  -0.005,\n",
       "  -0.031,\n",
       "  -0.256,\n",
       "  -0.353,\n",
       "  -0.178,\n",
       "  -0.503,\n",
       "  -0.506,\n",
       "  -0.09,\n",
       "  -0.058,\n",
       "  -0.032,\n",
       "  -0.035,\n",
       "  0.015,\n",
       "  -0.07,\n",
       "  0.048,\n",
       "  0.002,\n",
       "  -0.071,\n",
       "  0.005,\n",
       "  -0.002,\n",
       "  0.024,\n",
       "  0.0,\n",
       "  -0.007,\n",
       "  -0.014,\n",
       "  -0.029,\n",
       "  0.033,\n",
       "  0.011,\n",
       "  0.006,\n",
       "  -0.039,\n",
       "  -0.023,\n",
       "  0.046,\n",
       "  0.009,\n",
       "  0.009,\n",
       "  0.003,\n",
       "  -0.002,\n",
       "  0.015,\n",
       "  0.022,\n",
       "  0.007,\n",
       "  0.015,\n",
       "  -0.003,\n",
       "  -0.121,\n",
       "  -0.014,\n",
       "  -0.021,\n",
       "  -0.016,\n",
       "  -0.01,\n",
       "  -0.046,\n",
       "  -0.059,\n",
       "  -0.031,\n",
       "  -0.013,\n",
       "  0.005,\n",
       "  0.051,\n",
       "  -0.006,\n",
       "  0.003,\n",
       "  0.009,\n",
       "  -0.006,\n",
       "  0.001,\n",
       "  0.021,\n",
       "  0.025,\n",
       "  0.017,\n",
       "  0.012,\n",
       "  0.033,\n",
       "  -0.003,\n",
       "  -0.03,\n",
       "  0.002,\n",
       "  0.008,\n",
       "  -0.003,\n",
       "  -0.001,\n",
       "  0.003,\n",
       "  0.007,\n",
       "  0.004,\n",
       "  -0.099,\n",
       "  -0.003,\n",
       "  0.006,\n",
       "  -0.018,\n",
       "  -0.002,\n",
       "  -0.018,\n",
       "  -0.023,\n",
       "  -0.016,\n",
       "  -0.008,\n",
       "  -0.013,\n",
       "  -0.027,\n",
       "  -0.006,\n",
       "  0.005,\n",
       "  0.011,\n",
       "  -0.001,\n",
       "  0.035,\n",
       "  0.024,\n",
       "  0.042,\n",
       "  0.04,\n",
       "  -0.01,\n",
       "  0.27,\n",
       "  0.006,\n",
       "  -0.04,\n",
       "  -0.001,\n",
       "  -0.012,\n",
       "  -0.042,\n",
       "  -0.04,\n",
       "  -0.015,\n",
       "  -0.021,\n",
       "  0.008,\n",
       "  -0.294,\n",
       "  -0.005,\n",
       "  -0.008,\n",
       "  0.001,\n",
       "  -0.014,\n",
       "  -0.037,\n",
       "  -0.047,\n",
       "  -0.034,\n",
       "  -0.028,\n",
       "  0.025,\n",
       "  0.144,\n",
       "  0.016,\n",
       "  0.023,\n",
       "  0.026,\n",
       "  0.015,\n",
       "  0.014,\n",
       "  0.009,\n",
       "  0.02,\n",
       "  0.031,\n",
       "  0.026,\n",
       "  -0.096,\n",
       "  0.002,\n",
       "  -0.012,\n",
       "  0.03,\n",
       "  0.0],\n",
       " 'intercept_': 1.122,\n",
       " 'encoding_': array([[0., 0., 0., 0., 0., 0., 0., 0., 0., 0., 0., 0., 0., 0., 0., 0.,\n",
       "         0., 0., 0., 0., 0., 0., 0., 0., 0., 0., 0., 0., 0., 0., 0., 0.,\n",
       "         0., 0., 0., 0., 0., 0., 0., 0., 0., 0., 0., 0., 0., 0., 0., 0.,\n",
       "         0., 0., 0., 0., 0., 0., 0., 0., 0., 0., 0., 0., 0., 0., 0., 0.,\n",
       "         0., 0., 0., 0., 0., 0., 0., 0., 0., 0., 0., 0., 0., 0., 0., 0.,\n",
       "         0., 0., 0., 0., 0., 0., 0., 0., 0., 0., 0., 0., 0., 0., 0., 0.,\n",
       "         0., 0., 0., 0., 0., 0., 0., 0., 0., 0., 0., 0., 0., 0., 0., 0.,\n",
       "         0., 0., 0., 0., 0., 0., 0., 0., 1., 0., 0., 0., 0., 1., 0., 0.,\n",
       "         0., 0., 1., 0., 0., 0., 0., 1., 0., 0., 0., 0., 1., 0., 0., 0.,\n",
       "         0., 1., 0., 0., 0., 0., 0., 0., 0., 0., 0., 0., 0., 0., 0., 0.,\n",
       "         0., 0., 0., 0., 0., 0., 0., 0., 0., 0., 0., 0., 0., 0., 0., 0.,\n",
       "         0., 0., 0., 0., 0., 0., 0., 0., 0., 0., 0., 0., 0., 0., 0., 0.,\n",
       "         0., 0., 0., 0., 0., 0., 0., 0., 0., 0., 0., 0., 0., 0., 0., 0.,\n",
       "         0., 0., 0., 0., 0., 0., 0., 0., 0., 0., 0., 0., 0., 0., 0., 0.,\n",
       "         0., 0., 0., 0., 0., 0., 0., 0., 0., 0., 0., 0., 0., 0., 0., 0.,\n",
       "         0., 0., 0., 0., 0., 0., 0., 0., 0., 0.],\n",
       "        [0., 0., 0., 0., 0., 0., 0., 0., 0., 0., 0., 0., 0., 0., 0., 0.,\n",
       "         0., 0., 0., 0., 0., 0., 0., 0., 0., 0., 0., 0., 0., 0., 0., 0.,\n",
       "         0., 0., 0., 0., 0., 0., 0., 0., 0., 0., 0., 0., 0., 0., 0., 0.,\n",
       "         0., 0., 0., 0., 0., 0., 0., 0., 0., 0., 0., 0., 0., 0., 0., 0.,\n",
       "         0., 0., 0., 0., 0., 0., 0., 0., 0., 0., 0., 0., 0., 0., 0., 0.,\n",
       "         0., 0., 0., 0., 0., 0., 0., 0., 0., 0., 0., 0., 0., 0., 0., 0.,\n",
       "         0., 0., 0., 0., 0., 0., 0., 0., 0., 0., 0., 0., 0., 0., 1., 0.,\n",
       "         0., 0., 0., 1., 0., 0., 0., 0., 1., 0., 0., 0., 0., 1., 0., 0.,\n",
       "         0., 0., 1., 0., 0., 0., 0., 1., 0., 0., 0., 0., 0., 0., 0., 0.,\n",
       "         0., 0., 0., 0., 0., 0., 0., 0., 0., 0., 0., 0., 0., 0., 0., 0.,\n",
       "         0., 0., 0., 0., 0., 0., 0., 0., 0., 0., 0., 0., 0., 0., 0., 0.,\n",
       "         0., 0., 0., 0., 0., 0., 0., 0., 0., 0., 0., 0., 0., 0., 0., 0.,\n",
       "         0., 0., 0., 0., 0., 0., 0., 0., 0., 0., 0., 0., 0., 0., 0., 0.,\n",
       "         0., 0., 0., 0., 0., 0., 0., 0., 0., 0., 0., 0., 0., 0., 0., 0.,\n",
       "         0., 0., 0., 0., 0., 0., 0., 0., 0., 0., 0., 0., 0., 0., 0., 0.,\n",
       "         0., 0., 0., 0., 0., 0., 0., 0., 0., 0.],\n",
       "        [0., 0., 0., 0., 0., 0., 0., 0., 0., 0., 0., 0., 0., 0., 0., 0.,\n",
       "         0., 0., 0., 0., 0., 0., 0., 0., 0., 0., 0., 0., 0., 0., 0., 0.,\n",
       "         0., 0., 0., 0., 0., 0., 0., 0., 0., 0., 0., 0., 0., 0., 0., 0.,\n",
       "         0., 0., 0., 0., 0., 0., 0., 0., 0., 0., 0., 0., 0., 0., 0., 0.,\n",
       "         0., 0., 0., 0., 0., 0., 0., 0., 0., 0., 0., 0., 0., 0., 0., 0.,\n",
       "         0., 0., 0., 0., 0., 0., 0., 0., 0., 0., 0., 0., 0., 0., 0., 0.,\n",
       "         0., 0., 0., 0., 1., 0., 0., 0., 0., 1., 0., 0., 0., 0., 1., 0.,\n",
       "         0., 0., 0., 1., 0., 0., 0., 0., 1., 0., 0., 0., 0., 1., 0., 0.,\n",
       "         0., 0., 0., 0., 0., 0., 0., 0., 0., 0., 0., 0., 0., 0., 0., 0.,\n",
       "         0., 0., 0., 0., 0., 0., 0., 0., 0., 0., 0., 0., 0., 0., 0., 0.,\n",
       "         0., 0., 0., 0., 0., 0., 0., 0., 0., 0., 0., 0., 0., 0., 0., 0.,\n",
       "         0., 0., 0., 0., 0., 0., 0., 0., 0., 0., 0., 0., 0., 0., 0., 0.,\n",
       "         0., 0., 0., 0., 0., 0., 0., 0., 0., 0., 0., 0., 0., 0., 0., 0.,\n",
       "         0., 0., 0., 0., 0., 0., 0., 0., 0., 0., 0., 0., 0., 0., 0., 0.,\n",
       "         0., 0., 0., 0., 0., 0., 0., 0., 0., 0., 0., 0., 0., 0., 0., 0.,\n",
       "         0., 0., 0., 0., 0., 0., 0., 0., 0., 0.]]),\n",
       " 'degscore_by_position': array([0.699, 0.595, 1.158]),\n",
       " 'degscore': 2.452}"
      ]
     },
     "execution_count": 101,
     "metadata": {},
     "output_type": "execute_result"
    }
   ],
   "source": [
    "mdl.__dict__"
   ]
  },
  {
   "cell_type": "code",
   "execution_count": 94,
   "metadata": {},
   "outputs": [
    {
     "data": {
      "text/plain": [
       "<matplotlib.colorbar.Colorbar at 0x120d96898>"
      ]
     },
     "execution_count": 94,
     "metadata": {},
     "output_type": "execute_result"
    },
    {
     "data": {
      "image/png": "[encoded data removed]",
      "text/plain": [
       "<Figure size 1440x360 with 2 Axes>"
      ]
     },
     "metadata": {},
     "output_type": "display_data"
    }
   ],
   "source": [
    "figure(figsize=(20,5))\n",
    "imshow(np.vstack([x[:68] for x in kaggle_train['deg_Mg_pH10']]).T, aspect=10,cmap='RdYlBu_r')\n",
    "colorbar(fraction=0.01)"
   ]
  },
  {
   "cell_type": "markdown",
   "metadata": {},
   "source": [
    "###### Ensemble-averaged models"
   ]
  },
  {
   "cell_type": "code",
   "execution_count": 60,
   "metadata": {},
   "outputs": [
    {
     "name": "stdout",
     "output_type": "stream",
     "text": [
      "Fitting reactivity ...\n",
      "Fitting deg_Mg_pH10 ...\n",
      "Fitting deg_pH10 ...\n",
      "Fitting deg_Mg_50C ...\n",
      "Fitting deg_50C ...\n"
     ]
    }
   ],
   "source": [
    "ens_models = {}\n",
    "\n",
    "for output_type in ['reactivity', 'deg_Mg_pH10', 'deg_pH10', 'deg_Mg_50C','deg_50C']:\n",
    "    ens_outputs_train, ens_outputs_labels = encode_output(kaggle_train, data_type=output_type)\n",
    "    \n",
    "    # Clip negative values to 0\n",
    "    ens_outputs_train = np.clip(ens_outputs_train, 0, 100)\n",
    "\n",
    "    reg = Ridge(alpha=0.15)\n",
    "    print('Fitting %s ...' % output_type)\n",
    "    reg.fit(ens_inputs_train, ens_outputs_train)\n",
    "    \n",
    "    ens_models[output_type] = reg\n",
    "    \n",
    "    # test inputs, add to sample submission df\n",
    "    test_prediction = reg.predict(ens_inputs_test)\n",
    "    ens_sample_submission.loc[mask, output_type] = test_prediction"
   ]
  },
  {
   "cell_type": "code",
   "execution_count": 61,
   "metadata": {},
   "outputs": [],
   "source": [
    "# save to csv\n",
    "sample_submission.to_csv('test_mea_code_jan28.csv', index=False)\n",
    "ens_sample_submission.to_csv('test_ens_code_jan28.csv', index=False)"
   ]
  },
  {
   "cell_type": "markdown",
   "metadata": {},
   "source": [
    "## Using the existing class that contains \"DegScore-2.1\""
   ]
  },
  {
   "cell_type": "code",
   "execution_count": 30,
   "metadata": {},
   "outputs": [],
   "source": [
    "def score_mcrmse(models, test_df):\n",
    "    scored_data_types = ['reactivity', 'deg_Mg_pH10', 'deg_Mg_50C']\n",
    "\n",
    "    seq_scores = []\n",
    "    for i, row in test_df.iterrows():\n",
    "        scores = []\n",
    "        for data_type in scored_data_types:\n",
    "            model = models[data_type]\n",
    "            \n",
    "            coeffs = model.coef_\n",
    "            inter = model.intercept_\n",
    "            \n",
    "            mdl = DegScore.DegScore(row['sequence'], structure=row['structure'], coeffs=coeffs, intercept=inter)\n",
    "            \n",
    "            seq_scored = row['seq_scored']\n",
    "            pred = mdl.degscore_by_position[:seq_scored]\n",
    "            target = np.array(json.loads(row[data_type])[:seq_scored])\n",
    "            \n",
    "            scores.extend(np.square(pred - target))\n",
    "        \n",
    "        seq_scores.append(scores)\n",
    "        \n",
    "    return np.mean(seq_scores)"
   ]
  },
  {
   "cell_type": "code",
   "execution_count": 31,
   "metadata": {},
   "outputs": [
    {
     "data": {
      "text/plain": [
       "0.24691545925204095"
      ]
     },
     "execution_count": 31,
     "metadata": {},
     "output_type": "execute_result"
    }
   ],
   "source": [
    "score_mcrmse(mea_models, kaggle_test)"
   ]
  },
  {
   "cell_type": "code",
   "execution_count": 32,
   "metadata": {},
   "outputs": [
    {
     "data": {
      "text/plain": [
       "0.23856658661289426"
      ]
     },
     "execution_count": 32,
     "metadata": {},
     "output_type": "execute_result"
    }
   ],
   "source": [
    "score_mcrmse(ens_models, kaggle_test)"
   ]
  },
  {
   "cell_type": "code",
   "execution_count": null,
   "metadata": {},
   "outputs": [],
   "source": []
  }
 ],
 "metadata": {
  "kernelspec": {
   "display_name": "Python 3",
   "language": "python",
   "name": "python3"
  },
  "language_info": {
   "codemirror_mode": {
    "name": "ipython",
    "version": 3
   },
   "file_extension": ".py",
   "mimetype": "text/x-python",
   "name": "python",
   "nbconvert_exporter": "python",
   "pygments_lexer": "ipython3",
   "version": "3.7.3"
  }
 },
 "nbformat": 4,
 "nbformat_minor": 4
}
